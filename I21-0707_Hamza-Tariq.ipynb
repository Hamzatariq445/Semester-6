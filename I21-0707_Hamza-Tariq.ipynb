{
  "nbformat": 4,
  "nbformat_minor": 0,
  "metadata": {
    "colab": {
      "provenance": []
    },
    "kernelspec": {
      "name": "python3",
      "display_name": "Python 3"
    },
    "language_info": {
      "name": "python"
    }
  },
  "cells": [
    {
      "cell_type": "markdown",
      "source": [
        "# Scenario 1\n",
        "## ***Medical Agent***"
      ],
      "metadata": {
        "id": "D0ylEDavyPJm"
      }
    },
    {
      "cell_type": "code",
      "execution_count": 7,
      "metadata": {
        "colab": {
          "base_uri": "https://localhost:8080/"
        },
        "id": "ArAGYZWXtSrd",
        "outputId": "874ba5eb-6f6c-4c9c-bd68-de9bd7fe66db"
      },
      "outputs": [
        {
          "output_type": "stream",
          "name": "stdout",
          "text": [
            "Starting medical diagnostic system...\n",
            "Enter patient's name (or 'exit' to quit): hamza\n",
            "Enter patient's symptoms separated by commas: fever,cough\n",
            "Diagnosis for hamza: Flu\n",
            "Treatment for hamza: Prescription for antiviral medication\n",
            "Enter patient's name (or 'exit' to quit): exit\n",
            "Exiting medical diagnostic system...\n"
          ]
        }
      ],
      "source": [
        "class ReflexAgent:\n",
        "    def diagnose_patient(self, symptoms):\n",
        "        if \"fever\" in symptoms and \"cough\" in symptoms:\n",
        "            return \"Flu\"\n",
        "        elif \"headache\" in symptoms:\n",
        "            return \"Migraine\"\n",
        "        else:\n",
        "            return \"Unknown\"\n",
        "\n",
        "    def perform_treatment(self, diagnosis):\n",
        "        if diagnosis == \"Flu\":\n",
        "            return \"Prescription for antiviral medication\"\n",
        "        elif diagnosis == \"Migraine\":\n",
        "            return \"Prescription for pain relief medication\"\n",
        "        else:\n",
        "            return \"Further evaluation needed\"\n",
        "\n",
        "    def run(self):\n",
        "        print(\"Starting medical diagnostic system...\")\n",
        "        while True:\n",
        "            patient_name = input(\"Enter patient's name (or 'exit' to quit): \")\n",
        "            if patient_name.lower() == 'exit':\n",
        "                break\n",
        "\n",
        "            symptoms = input(\"Enter patient's symptoms separated by commas: \").split(\",\")\n",
        "            diagnosis = self.diagnose_patient(symptoms)\n",
        "            treatment = self.perform_treatment(diagnosis)\n",
        "\n",
        "            print(f\"Diagnosis for {patient_name}: {diagnosis}\")\n",
        "            print(f\"Treatment for {patient_name}: {treatment}\")\n",
        "\n",
        "        print(\"Exiting medical diagnostic system...\")\n",
        "\n",
        "\n",
        "if __name__ == \"__main__\":\n",
        "    agent = ReflexAgent()\n",
        "    agent.run()\n"
      ]
    },
    {
      "cell_type": "markdown",
      "source": [
        "# Scenario 2\n",
        "## ***Automated Taxi Agent***"
      ],
      "metadata": {
        "id": "ngJfhXHEyOhO"
      }
    },
    {
      "cell_type": "code",
      "source": [
        "class AutonomousTransportAgent:\n",
        "\n",
        "    def __init__(self):\n",
        "        self.customer_satisfaction = 0\n",
        "        self.earnings = 0\n",
        "        self.current_location = \"A\"\n",
        "        self.destination = None\n",
        "\n",
        "    def sense_environment(self):\n",
        "        print(\"Enter road conditions (clear/moderate traffic/heavy traffic): \")\n",
        "        road_conditions = input().lower()\n",
        "\n",
        "        print(\"Is there a pedestrian present? (True/False): \")\n",
        "        pedestrian_presence = input().lower() == \"true\"\n",
        "\n",
        "        print(\"Enter passenger location (A/B/C): \")\n",
        "        passenger_location = input().upper()\n",
        "\n",
        "        return road_conditions, pedestrian_presence, passenger_location\n",
        "\n",
        "    def perform_actions(self, road_conditions, pedestrian_presence, passenger_location):\n",
        "        if not self.destination:\n",
        "            self.destination = passenger_location\n",
        "\n",
        "        if self.current_location == self.destination:\n",
        "            self.complete_trip()\n",
        "        else:\n",
        "            if road_conditions == \"clear\" and not pedestrian_presence:\n",
        "                self.drive_to_destination()\n",
        "                self.customer_satisfaction += 10\n",
        "                self.earnings += 7\n",
        "            elif road_conditions == \"moderate traffic\":\n",
        "                self.wait_in_traffic()\n",
        "                self.customer_satisfaction -= 5\n",
        "                self.earnings += 3\n",
        "            elif road_conditions == \"heavy traffic\" or pedestrian_presence:\n",
        "                self.navigate_alternative_route()\n",
        "                self.customer_satisfaction -= 10\n",
        "                self.earnings += 1\n",
        "\n",
        "    def drive_to_destination(self):\n",
        "        print(f\"Moving from {self.current_location} to {self.destination}\")\n",
        "        self.current_location = self.destination\n",
        "\n",
        "    def wait_in_traffic(self):\n",
        "        print(\"Waiting in traffic\")\n",
        "\n",
        "    def navigate_alternative_route(self):\n",
        "        print(\"Finding alternative route\")\n",
        "\n",
        "    def complete_trip(self):\n",
        "        print(\"Trip completed. Arrived at destination.\")\n",
        "        self.destination = None\n",
        "\n",
        "    def display_information(self, message):\n",
        "        print(\"Display Information:\", message)\n",
        "\n",
        "    def assess_performance(self):\n",
        "        print(\"Passenger satisfaction:\", self.customer_satisfaction)\n",
        "        print(\"Earnings: ${}\".format(self.earnings))\n",
        "\n",
        "    def run_transport_service(self):\n",
        "        road_conditions, pedestrian_presence, passenger_location = self.sense_environment()\n",
        "        self.perform_actions(road_conditions, pedestrian_presence, passenger_location)\n",
        "        self.assess_performance()\n",
        "\n",
        "if __name__ == \"__main__\":\n",
        "    transport_agent = AutonomousTransportAgent()\n",
        "\n",
        "    for _ in range(3):\n",
        "\n",
        "        print(\"\\n--- Trip ---\\n\")\n",
        "        transport_agent.run_transport_service()\n"
      ],
      "metadata": {
        "colab": {
          "base_uri": "https://localhost:8080/"
        },
        "id": "jlYz6aIOxexH",
        "outputId": "3e5e8dcf-5422-4055-dd7f-ad3b200dfc5a"
      },
      "execution_count": 9,
      "outputs": [
        {
          "output_type": "stream",
          "name": "stdout",
          "text": [
            "Enter road conditions (clear/moderate traffic/heavy traffic): \n",
            "moderate traffic\n",
            "Is there a pedestrian present? (True/False): \n",
            "true\n",
            "Enter passenger location (A/B/C): \n",
            "c\n",
            "Waiting in traffic\n",
            "Passenger satisfaction: -5\n",
            "Earnings: $3\n",
            "\n",
            "--- Next Trip ---\n",
            "\n",
            "Enter road conditions (clear/moderate traffic/heavy traffic): \n",
            "heavy traffic\n",
            "Is there a pedestrian present? (True/False): \n",
            "false\n",
            "Enter passenger location (A/B/C): \n",
            "a\n",
            "Finding alternative route\n",
            "Passenger satisfaction: -15\n",
            "Earnings: $4\n",
            "\n",
            "--- Next Trip ---\n",
            "\n",
            "Enter road conditions (clear/moderate traffic/heavy traffic): \n",
            "clear\n",
            "Is there a pedestrian present? (True/False): \n",
            "true\n",
            "Enter passenger location (A/B/C): \n",
            "b\n",
            "Finding alternative route\n",
            "Passenger satisfaction: -25\n",
            "Earnings: $5\n",
            "\n",
            "--- Next Trip ---\n",
            "\n"
          ]
        }
      ]
    },
    {
      "cell_type": "code",
      "source": [],
      "metadata": {
        "id": "L0b0JWwCz8GI"
      },
      "execution_count": null,
      "outputs": []
    }
  ]
}