{
 "cells": [
  {
   "cell_type": "code",
   "execution_count": 88,
   "id": "f2dc2a40",
   "metadata": {},
   "outputs": [],
   "source": [
    "import numpy as np\n",
    "import pandas as pd\n",
    "import matplotlib.pyplot as plt\n",
    "import pandas as pd"
   ]
  },
  {
   "cell_type": "markdown",
   "id": "f5eb2c44",
   "metadata": {},
   "source": [
    "# Question 1 \n",
    "\n",
    "Create two 5x5 Numpy arrays filled with random numbers between 0 to 15 and\n",
    "consider zero as nan value in each column. Perform following operations on it:"
   ]
  },
  {
   "cell_type": "code",
   "execution_count": 63,
   "id": "0668bf61",
   "metadata": {},
   "outputs": [
    {
     "name": "stdout",
     "output_type": "stream",
     "text": [
      "Array 1: \n",
      "[[nan 10.  5.  5. 11.]\n",
      " [13. 12. 11.  2.  6.]\n",
      " [ 3.  7.  3.  1.  5.]\n",
      " [ 8.  3.  7.  9. 15.]\n",
      " [ 6.  1.  8.  5.  9.]]\n",
      "\n",
      "Array 2: \n",
      "[[ 2. 11.  5.  7.  9.]\n",
      " [nan  5. 12.  9.  9.]\n",
      " [ 2.  5.  8.  5.  3.]\n",
      " [10. 13.  2.  2.  5.]\n",
      " [nan  5.  1.  7. 14.]]\n"
     ]
    }
   ],
   "source": [
    "array1 = np.random.randint(0, 16, (5, 5)).astype(float)\n",
    "array2 = np.random.randint(0, 16, (5, 5)).astype(float)\n",
    "\n",
    "array1[array1 == 0] = np.nan\n",
    "array2[array2 == 0] = np.nan\n",
    "\n",
    "print(\"Array 1: \")\n",
    "print(array1)\n",
    "print(\"\\nArray 2: \")\n",
    "print(array2)"
   ]
  },
  {
   "cell_type": "markdown",
   "id": "13377422",
   "metadata": {},
   "source": [
    "# --------------------------------------------------------------------------------------------------------\n",
    "# Find the null values and replace it with random number."
   ]
  },
  {
   "cell_type": "code",
   "execution_count": 64,
   "id": "4f0144c8",
   "metadata": {},
   "outputs": [
    {
     "name": "stdout",
     "output_type": "stream",
     "text": [
      "\n",
      "Array 1 after replacing NaN with random numbers:\n",
      "[[12. 10.  5.  5. 11.]\n",
      " [13. 12. 11.  2.  6.]\n",
      " [ 3.  7.  3.  1.  5.]\n",
      " [ 8.  3.  7.  9. 15.]\n",
      " [ 6.  1.  8.  5.  9.]]\n",
      "\n",
      "Array 2 after replacing NaN with random numbers:\n",
      "[[ 2. 11.  5.  7.  9.]\n",
      " [ 1.  5. 12.  9.  9.]\n",
      " [ 2.  5.  8.  5.  3.]\n",
      " [10. 13.  2.  2.  5.]\n",
      " [15.  5.  1.  7. 14.]]\n"
     ]
    }
   ],
   "source": [
    "null_array1 = np.isnan(array1)\n",
    "null_array2 = np.isnan(array2)\n",
    "\n",
    "array1[null_array1] = np.random.randint(0, 16, np.count_nonzero(null_array1))\n",
    "array2[null_array2] = np.random.randint(0, 16, np.count_nonzero(null_array2))\n",
    "\n",
    "print(\"\\nArray 1 after replacing NaN with random numbers:\")\n",
    "print(array1)\n",
    "print(\"\\nArray 2 after replacing NaN with random numbers:\")\n",
    "print(array2)"
   ]
  },
  {
   "cell_type": "markdown",
   "id": "7db2cc71",
   "metadata": {},
   "source": [
    "# --------------------------------------------------------------------------------------------------------\n",
    "# Find the unique values and its counts."
   ]
  },
  {
   "cell_type": "code",
   "execution_count": 65,
   "id": "491e298f",
   "metadata": {},
   "outputs": [
    {
     "name": "stdout",
     "output_type": "stream",
     "text": [
      "Unique values and their counts for array1:\n",
      "1-->2\n",
      "2-->1\n",
      "3-->3\n",
      "5-->4\n",
      "6-->2\n",
      "7-->2\n",
      "8-->2\n",
      "9-->2\n",
      "10-->1\n",
      "11-->2\n",
      "12-->2\n",
      "13-->1\n",
      "15-->1\n",
      "\n",
      "Unique values and their counts for array2:\n",
      "1-->2\n",
      "2-->4\n",
      "3-->1\n",
      "5-->6\n",
      "7-->2\n",
      "8-->1\n",
      "9-->3\n",
      "10-->1\n",
      "11-->1\n",
      "12-->1\n",
      "13-->1\n",
      "14-->1\n",
      "15-->1\n"
     ]
    }
   ],
   "source": [
    "unique_array1, count_1 = np.unique(array1, return_counts=True)\n",
    "\n",
    "print(\"Unique values and their counts for array1:\")\n",
    "\n",
    "for i in range(len(unique_array1)):\n",
    "    print(f\"{int(unique_array1[i])}-->{count_1[i]}\")\n",
    "\n",
    "unique_array2, count_2 = np.unique(array2, return_counts=True)\n",
    "\n",
    "print(\"\\nUnique values and their counts for array2:\")\n",
    "\n",
    "for i in range(len(unique_array2)):\n",
    "    print(f\"{int(unique_array2[i])}-->{count_2[i]}\")"
   ]
  },
  {
   "cell_type": "markdown",
   "id": "f6a03794",
   "metadata": {},
   "source": [
    "# --------------------------------------------------------------------------------------------------------\n",
    "# Sort the data based on 1 column."
   ]
  },
  {
   "cell_type": "code",
   "execution_count": 66,
   "id": "1954d297",
   "metadata": {},
   "outputs": [
    {
     "name": "stdout",
     "output_type": "stream",
     "text": [
      "Sorted array based on the first column:\n",
      "[[ 3.  7.  3.  1.  5.]\n",
      " [ 6.  1.  8.  5.  9.]\n",
      " [ 8.  3.  7.  9. 15.]\n",
      " [12. 10.  5.  5. 11.]\n",
      " [13. 12. 11.  2.  6.]]\n",
      "\n",
      "Sorted array based on the first column:\n",
      "[[ 1.  5. 12.  9.  9.]\n",
      " [ 2. 11.  5.  7.  9.]\n",
      " [ 2.  5.  8.  5.  3.]\n",
      " [10. 13.  2.  2.  5.]\n",
      " [15.  5.  1.  7. 14.]]\n"
     ]
    }
   ],
   "source": [
    "sorted_array1 = array1[array1[:, 0].argsort()]\n",
    "\n",
    "print(\"Sorted array based on the first column:\")\n",
    "print(sorted_array1)\n",
    "\n",
    "sorted_array2 = array2[array2[:, 0].argsort()]\n",
    "\n",
    "print(\"\\nSorted array based on the first column:\")\n",
    "print(sorted_array2)"
   ]
  },
  {
   "cell_type": "markdown",
   "id": "48f03707",
   "metadata": {},
   "source": [
    "# --------------------------------------------------------------------------------------------------------\n",
    "# Find the statistical description of data (e.g. mean, median, min, max) and\n",
    "# display output."
   ]
  },
  {
   "cell_type": "code",
   "execution_count": 75,
   "id": "7d0c7243",
   "metadata": {},
   "outputs": [
    {
     "name": "stdout",
     "output_type": "stream",
     "text": [
      "\n",
      "Mean Of Sorted array 1 :\n",
      "7.08\n",
      "\n",
      "Mean Of Sorted array 1 :\n",
      "7.0\n",
      "\n",
      "Mean Of Sorted array 1 :\n",
      "15.0\n",
      "\n",
      "Mean Of Sorted array 1 :\n",
      "1.0\n",
      "--------------------------------------\n",
      "\n",
      "\n",
      "Mean Of Sorted array 2 :\n",
      "6.68\n",
      "\n",
      "Mean Of Sorted array 2 :\n",
      "5.0\n",
      "\n",
      "Mean Of Sorted array 2 :\n",
      "15.0\n",
      "\n",
      "Mean Of Sorted array 2 :\n",
      "1.0\n"
     ]
    }
   ],
   "source": [
    "\n",
    "print(\"\\nMean Of Sorted array 1 :\")\n",
    "print (np.nanmean(sorted_array1))\n",
    "\n",
    "print(\"\\nMean Of Sorted array 1 :\")\n",
    "print(np.nanmedian(sorted_array1))\n",
    "\n",
    "print(\"\\nMean Of Sorted array 1 :\")\n",
    "print(np.nanmax(sorted_array1))\n",
    "\n",
    "print(\"\\nMean Of Sorted array 1 :\")\n",
    "print(np.nanmin(sorted_array1))\n",
    "\n",
    "print(\"--------------------------------------\\n\")\n",
    "\n",
    "print(\"\\nMean Of Sorted array 2 :\")\n",
    "print (np.nanmean(sorted_array2))\n",
    "\n",
    "print(\"\\nMean Of Sorted array 2 :\")\n",
    "print(np.nanmedian(sorted_array2))\n",
    "\n",
    "print(\"\\nMean Of Sorted array 2 :\")\n",
    "print(np.nanmax(sorted_array2))\n",
    "\n",
    "print(\"\\nMean Of Sorted array 2 :\")\n",
    "print(np.nanmin(sorted_array2))\n",
    "\n"
   ]
  },
  {
   "cell_type": "markdown",
   "id": "5533e742",
   "metadata": {},
   "source": [
    "# --------------------------------------------------------------------------------------------------------\n",
    "# Create an element-wise comparison (greater, greater_equal, less, and\n",
    "# less_equal) of two given arrays and display comparison output."
   ]
  },
  {
   "cell_type": "code",
   "execution_count": 79,
   "id": "04844804",
   "metadata": {},
   "outputs": [
    {
     "name": "stdout",
     "output_type": "stream",
     "text": [
      "\n",
      "Element-wise comparison (greater than array 1):\n",
      "[[ True False False False  True]\n",
      " [ True  True False False False]\n",
      " [ True  True False False  True]\n",
      " [False False  True  True  True]\n",
      " [False False  True False False]]\n",
      "\n",
      "Element-wise comparison (greater than or equal to array 1):\n",
      "[[ True False  True False  True]\n",
      " [ True  True False False False]\n",
      " [ True  True False False  True]\n",
      " [False False  True  True  True]\n",
      " [False False  True False False]]\n",
      "\n",
      "Element-wise comparison (less than array 1):\n",
      "[[False  True False  True False]\n",
      " [False False  True  True  True]\n",
      " [False False  True  True False]\n",
      " [ True  True False False False]\n",
      " [ True  True False  True  True]]\n",
      "\n",
      "Element-wise comparison (less than or equal to array 1):\n",
      "[[False  True  True  True False]\n",
      " [False False  True  True  True]\n",
      " [False False  True  True False]\n",
      " [ True  True False False False]\n",
      " [ True  True False  True  True]]\n"
     ]
    }
   ],
   "source": [
    "# Perform element-wise comparisons\n",
    "greater_than = array1 > array2\n",
    "greater_than_equal = array1 >= array2\n",
    "less_than = array1 < array2\n",
    "less_than_equal = array1 <= array2\n",
    "\n",
    "print(\"\\nElement-wise comparison (greater than array 1):\")\n",
    "print(greater_than)\n",
    "print(\"\\nElement-wise comparison (greater than or equal to array 1):\")\n",
    "print(greater_than_equal)\n",
    "print(\"\\nElement-wise comparison (less than array 1):\")\n",
    "print(less_than)\n",
    "print(\"\\nElement-wise comparison (less than or equal to array 1):\")\n",
    "print(less_than_equal)"
   ]
  },
  {
   "cell_type": "markdown",
   "id": "4bcf34a4",
   "metadata": {},
   "source": [
    "# ----------------------------------------------------------------------------\n",
    "# Plot the unique values that are find in the second part."
   ]
  },
  {
   "cell_type": "code",
   "execution_count": 87,
   "id": "09e50c9d",
   "metadata": {},
   "outputs": [
    {
     "data": {
      "image/png": "[encoded data removed]",
      "text/plain": [
       "<Figure size 1200x600 with 2 Axes>"
      ]
     },
     "metadata": {},
     "output_type": "display_data"
    }
   ],
   "source": [
    "plt.figure(figsize=(12, 6))\n",
    "plt.subplot(1, 2, 1)\n",
    "plt.bar(unique_array1, count_1, color='skyblue')\n",
    "plt.xlabel('Unique Values')\n",
    "plt.ylabel('Count')\n",
    "plt.title('Counts of Unique Values in Array 1')\n",
    "plt.grid(axis='y', linestyle='--', alpha=0.7)\n",
    "\n",
    "plt.subplot(1, 2, 2)\n",
    "plt.bar(unique_array2, count_2, color='salmon')\n",
    "plt.xlabel('Unique Values')\n",
    "plt.ylabel('Count')\n",
    "plt.title('Counts of Unique Values in Array 2')\n",
    "plt.grid(axis='y', linestyle='--', alpha=0.7)\n",
    "\n",
    "plt.tight_layout()\n",
    "plt.show()"
   ]
  },
  {
   "cell_type": "markdown",
   "id": "16585389",
   "metadata": {},
   "source": [
    "# Question 2"
   ]
  },
  {
   "cell_type": "code",
   "execution_count": 98,
   "id": "f3674469",
   "metadata": {},
   "outputs": [],
   "source": [
    "# Load the file and read the data\n",
    "df = pd.read_csv(\"HousingPrices.csv\")"
   ]
  },
  {
   "cell_type": "code",
   "execution_count": 99,
   "id": "736eb199",
   "metadata": {},
   "outputs": [
    {
     "name": "stdout",
     "output_type": "stream",
     "text": [
      "        price  area  bedrooms  bathrooms  stories  mainroad  guestroom  \\\n",
      "0    13300000  7420         4          2        3         1          0   \n",
      "1    12250000  8960         4          4        4         1          0   \n",
      "2    12250000  9960         3          2        2         1          0   \n",
      "3    12215000  7500         4          2        2         1          0   \n",
      "4    11410000  7420         4          1        2         1          1   \n",
      "..        ...   ...       ...        ...      ...       ...        ...   \n",
      "540   1820000  3000         2          1        1         1          0   \n",
      "541   1767150  2400         3          1        1         0          0   \n",
      "542   1750000  3620         2          1        1         1          0   \n",
      "543   1750000  2910         3          1        1         0          0   \n",
      "544   1750000  3850         3          1        2         1          0   \n",
      "\n",
      "     basement  hotwaterheating  airconditioning  parking  prefarea  \\\n",
      "0           0                0                1        2         1   \n",
      "1           0                0                1        3         0   \n",
      "2           1                0                0        2         1   \n",
      "3           1                0                1        3         1   \n",
      "4           1                0                1        2         0   \n",
      "..        ...              ...              ...      ...       ...   \n",
      "540         1                0                0        2         0   \n",
      "541         0                0                0        0         0   \n",
      "542         0                0                0        0         0   \n",
      "543         0                0                0        0         0   \n",
      "544         0                0                0        0         0   \n",
      "\n",
      "    furnishingstatus  \n",
      "0          furnished  \n",
      "1          furnished  \n",
      "2     semi-furnished  \n",
      "3          furnished  \n",
      "4          furnished  \n",
      "..               ...  \n",
      "540      unfurnished  \n",
      "541   semi-furnished  \n",
      "542      unfurnished  \n",
      "543        furnished  \n",
      "544      unfurnished  \n",
      "\n",
      "[545 rows x 13 columns]\n"
     ]
    }
   ],
   "source": [
    "print(df)"
   ]
  },
  {
   "cell_type": "code",
   "execution_count": 112,
   "id": "fb370dcb",
   "metadata": {},
   "outputs": [
    {
     "name": "stdout",
     "output_type": "stream",
     "text": [
      "Null Values In the File:\n",
      " price               0\n",
      "area                0\n",
      "bedrooms            0\n",
      "bathrooms           0\n",
      "stories             0\n",
      "mainroad            0\n",
      "guestroom           0\n",
      "basement            0\n",
      "hotwaterheating     0\n",
      "airconditioning     0\n",
      "parking             0\n",
      "prefarea            0\n",
      "furnishingstatus    0\n",
      "dtype: int64\n"
     ]
    }
   ],
   "source": [
    "# Find null values\n",
    "null_value = df.isnull().sum()\n",
    "\n",
    "print(\"Null Values In the File:\\n\",null_value)"
   ]
  },
  {
   "cell_type": "code",
   "execution_count": 109,
   "id": "d3450e8a",
   "metadata": {},
   "outputs": [
    {
     "data": {
      "image/png": "[encoded data removed]",
      "text/plain": [
       "<Figure size 640x480 with 1 Axes>"
      ]
     },
     "metadata": {},
     "output_type": "display_data"
    }
   ],
   "source": [
    "furnishing_count = df['furnishingstatus'].value_counts()\n",
    "furnishing_count.plot(kind='bar', color='skyblue')\n",
    "plt.xlabel('Furnishing Status')\n",
    "plt.ylabel('Count')\n",
    "plt.title('Count of Furnishing Status ')\n",
    "plt.xticks(rotation=0)\n",
    "plt.show()"
   ]
  },
  {
   "cell_type": "code",
   "execution_count": 118,
   "id": "8e887a39",
   "metadata": {},
   "outputs": [
    {
     "name": "stdout",
     "output_type": "stream",
     "text": [
      "\n",
      "Highest Price House : furnishingstatus\n",
      "furnished         13300000\n",
      "semi-furnished    12250000\n",
      "unfurnished       10150000\n",
      "Name: price, dtype: int64\n"
     ]
    }
   ],
   "source": [
    "highest_price_house = df.groupby('furnishingstatus')['price'].max()\n",
    "print (\"\\nHighest Price House :\", highest_price_house)\n"
   ]
  },
  {
   "cell_type": "code",
   "execution_count": 121,
   "id": "c8dc8594",
   "metadata": {},
   "outputs": [
    {
     "name": "stdout",
     "output_type": "stream",
     "text": [
      "Houses Over the 100000000 : 0\n"
     ]
    }
   ],
   "source": [
    "# Count houses with price greater than 100 billion USD\n",
    "houses_over_100_billion = df[df['price'] > 100000000]\n",
    "\n",
    "print(\"Houses Over the 100000000 :\",len(houses_over_100_billion))"
   ]
  },
  {
   "cell_type": "code",
   "execution_count": 128,
   "id": "95276dc4",
   "metadata": {},
   "outputs": [
    {
     "data": {
      "image/png": "[encoded data removed]",
      "text/plain": [
       "<Figure size 800x600 with 1 Axes>"
      ]
     },
     "metadata": {},
     "output_type": "display_data"
    }
   ],
   "source": [
    "# Group the data by the number of bedrooms and calculate the mean price for each group\n",
    "avg_price_per_bedroom = df.groupby('bedrooms')['price'].mean()\n",
    "\n",
    "plt.figure(figsize=(8, 6))\n",
    "plt.plot(avg_price_per_bedroom.index, avg_price_per_bedroom.values, marker='^', linestyle='--')\n",
    "\n",
    "\n",
    "plt.title(\"Average Price by Number Of Bedrooms\")\n",
    "plt.xlabel('Number of Bedrooms')\n",
    "plt.ylabel('Price')\n",
    "\n",
    "\n",
    "plt.grid(True)\n",
    "plt.show()\n"
   ]
  },
  {
   "cell_type": "code",
   "execution_count": null,
   "id": "195d0e0d",
   "metadata": {},
   "outputs": [],
   "source": []
  }
 ],
 "metadata": {
  "kernelspec": {
   "display_name": "Python 3 (ipykernel)",
   "language": "python",
   "name": "python3"
  },
  "language_info": {
   "codemirror_mode": {
    "name": "ipython",
    "version": 3
   },
   "file_extension": ".py",
   "mimetype": "text/x-python",
   "name": "python",
   "nbconvert_exporter": "python",
   "pygments_lexer": "ipython3",
   "version": "3.11.5"
  }
 },
 "nbformat": 4,
 "nbformat_minor": 5
}
