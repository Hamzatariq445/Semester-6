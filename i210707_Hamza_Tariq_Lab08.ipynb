{
  "nbformat": 4,
  "nbformat_minor": 0,
  "metadata": {
    "colab": {
      "provenance": []
    },
    "kernelspec": {
      "name": "python3",
      "display_name": "Python 3"
    },
    "language_info": {
      "name": "python"
    }
  },
  "cells": [
    {
      "cell_type": "markdown",
      "source": [
        "# Hamza Tariq (I21-0707)\n",
        "# Lab Task 8"
      ],
      "metadata": {
        "id": "InBtqb2AQAqU"
      }
    },
    {
      "cell_type": "code",
      "source": [
        "import random\n",
        "\n",
        "GRID_SIZE = 6\n",
        "NUM_ANTENNAS = 5\n",
        "POPULATION_SIZE = 20\n",
        "NUM_GENERATIONS = 100\n",
        "\n",
        "def generate_random_population():\n",
        "    population = []\n",
        "    for _ in range(POPULATION_SIZE):\n",
        "        chromosome = []\n",
        "        for _ in range(NUM_ANTENNAS):\n",
        "            x = random.randint(0, GRID_SIZE - 1)\n",
        "            y = random.randint(0, GRID_SIZE - 1)\n",
        "            chromosome.append((x, y))\n",
        "        population.append(chromosome)\n",
        "    return population\n",
        "\n",
        "\n",
        "def calc_fitness(chromo):\n",
        "    total_coverage = 0\n",
        "    for antenna in chromo:\n",
        "        x, y = antenna\n",
        "        coverage = 1\n",
        "        for dx, dy in [(0, 1), (0, -1), (1, 0), (-1, 0)]:\n",
        "            new_x, new_y = x + dx, y + dy\n",
        "            if 0 <= new_x < GRID_SIZE and 0 <= new_y < GRID_SIZE:\n",
        "                coverage += 1\n",
        "        total_coverage += coverage\n",
        "    return total_coverage\n",
        "\n",
        "def selection(population, fitness):\n",
        "    # --------------------------Roulete Wheel Selection\n",
        "    selected = random.choices(population, weights=fitness, k=2)\n",
        "    return selected[0], selected[1]\n",
        "\n",
        "def crossover(chromo1, chromo2):\n",
        "    offspring1, offspring2 = [], []\n",
        "    for i in range(len(chromo1)):\n",
        "        if random.random() < 0.5:\n",
        "            offspring1.append(chromo1[i])\n",
        "            offspring2.append(chromo2[i])\n",
        "        else:\n",
        "            offspring1.append(chromo2[i])\n",
        "            offspring2.append(chromo1[i])\n",
        "    return offspring1, offspring2\n",
        "\n",
        "\n",
        "def mutation(chromosome):\n",
        "    mutated_chromosome = chromosome[:]\n",
        "\n",
        "    gene_index = random.randint(0, len(chromosome) - 1)\n",
        "\n",
        "    new_gene = (random.randint(0, GRID_SIZE - 1), random.randint(0, GRID_SIZE - 1))\n",
        "\n",
        "    mutated_chromosome[gene_index] = new_gene\n",
        "\n",
        "    return mutated_chromosome\n",
        "\n",
        "\n",
        "def main():\n",
        "    population = generate_random_population()\n",
        "\n",
        "#----------------------------------------- Main Logic ---------------------------------------------------------\n",
        "    for generation in range(NUM_GENERATIONS):\n",
        "\n",
        "        fitness = [calc_fitness(chromo) for chromo in population]\n",
        "\n",
        "        chromo1, chromo2 = selection(population, fitness)\n",
        "\n",
        "#----------------------------------------- creating two new offspring-------------------------------------------\n",
        "        offspring1, offspring2 = crossover(chromo1, chromo2)\n",
        "\n",
        "        # Mutate the two offspring\n",
        "        offspring1 = mutation(offspring1)\n",
        "        offspring2 = mutation(offspring2)\n",
        "\n",
        "#----------------------------------------- Replace worst chromosomes -------------------------------------------\n",
        "        worst_idx1 = fitness.index(min(fitness))\n",
        "        worst_idx2 = fitness.index(sorted(fitness)[-2])\n",
        "        population[worst_idx1] = offspring1\n",
        "        population[worst_idx2] = offspring2\n",
        "\n",
        "#--------------------------------------- Finding Best with Max Fitness -----------------------------------------\n",
        "    best_index = fitness.index(max(fitness))\n",
        "    best_chromosome = population[best_index]\n",
        "    best_fitness = fitness[best_index]\n",
        "\n",
        "    print(\"Best Solution found:\")\n",
        "    print(\"Chromosome:\", best_chromosome)\n",
        "    print(\"Fitness:\", best_fitness)\n",
        "\n",
        "if __name__ == \"__main__\":\n",
        "    main()\n"
      ],
      "metadata": {
        "id": "GMWkgfVq0mrj",
        "colab": {
          "base_uri": "https://localhost:8080/"
        },
        "outputId": "d8448a71-7a30-438b-ce79-f8fafda046c6"
      },
      "execution_count": 32,
      "outputs": [
        {
          "output_type": "stream",
          "name": "stdout",
          "text": [
            "Best Solution found:\n",
            "Chromosome: [(3, 3), (2, 5), (1, 3), (1, 2), (1, 1)]\n",
            "Fitness: 24\n"
          ]
        }
      ]
    }
  ]
}