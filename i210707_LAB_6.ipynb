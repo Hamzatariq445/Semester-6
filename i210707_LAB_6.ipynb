{
  "cells": [
    {
      "cell_type": "markdown",
      "id": "9b352b59",
      "metadata": {
        "id": "9b352b59"
      },
      "source": [
        "# QUESTION 1"
      ]
    },
    {
      "cell_type": "code",
      "execution_count": 12,
      "id": "35389ffe",
      "metadata": {
        "id": "35389ffe",
        "outputId": "5fb0f186-d42e-4dc5-d0f7-d1a93aac48db",
        "colab": {
          "base_uri": "https://localhost:8080/"
        }
      },
      "outputs": [
        {
          "output_type": "stream",
          "name": "stdout",
          "text": [
            "Enter the initial state of the puzzle (9 digits, 0-8 with no spaces): 123456708\n",
            "Moves to reach the goal state:\n",
            "Move R: 123456708 -> 123456780\n"
          ]
        }
      ],
      "source": [
        "goal_state = \"123456780\"\n",
        "ROWS = 3\n",
        "COLS = 3\n",
        "MOVES = {\n",
        "    'U': -3,\n",
        "    'D': 3,\n",
        "    'L': -1,\n",
        "    'R': 1\n",
        "}\n",
        "\n",
        "def heuristic(state):\n",
        "    return sum(1 if state[i] != goal_state[i] else 0 for i in range(len(state)))\n",
        "\n",
        "def legal_moves(position):\n",
        "    moves = []\n",
        "    blank_index = position.index('0')\n",
        "    row, col = divmod(blank_index, COLS)\n",
        "    for move, offset in MOVES.items():\n",
        "        new_row, new_col = row + offset // COLS, col + offset % COLS\n",
        "        if 0 <= new_row < ROWS and 0 <= new_col < COLS:\n",
        "            new_index = new_row * COLS + new_col\n",
        "            moves.append((move, new_index))\n",
        "    return moves\n",
        "\n",
        "def best_first_search(start_state):\n",
        "    stack = [(heuristic(start_state), start_state)]\n",
        "    visited = set()\n",
        "    while stack:\n",
        "        _, current_state = stack.pop()\n",
        "        if current_state == goal_state:\n",
        "            return current_state\n",
        "        visited.add(current_state)\n",
        "        for move, next_index in legal_moves(current_state):\n",
        "            next_state = list(current_state)\n",
        "            next_state[next_index], next_state[current_state.index('0')] = '0', current_state[next_index]\n",
        "            next_state = ''.join(next_state)\n",
        "            if next_state not in visited:\n",
        "                stack.append((heuristic(next_state), next_state))\n",
        "                stack.sort(reverse=True)  # Sort in descending order based on heuristic for best-first search\n",
        "    return None\n",
        "\n",
        "def main():\n",
        "    initial_state = input(\"Enter the initial state of the puzzle (9 digits, 0-8 with no spaces): \")\n",
        "    if len(initial_state) != 9 or not initial_state.isdigit() or '9' in initial_state:\n",
        "        print(\"Invalid input. Please enter 9 digits from 0 to 8.\")\n",
        "        return\n",
        "    result = best_first_search(initial_state)\n",
        "    if result:\n",
        "        print(\"Moves to reach the goal state:\")\n",
        "        print_moves(initial_state, result)\n",
        "    else:\n",
        "        print(\"Goal state cannot be reached from the initial state.\")\n",
        "\n",
        "def print_moves(initial_state, goal_state):\n",
        "    state = initial_state\n",
        "    while state != goal_state:\n",
        "        for move, next_index in legal_moves(state):\n",
        "            next_state = list(state)\n",
        "            next_state[next_index], next_state[state.index('0')] = '0', state[next_index]\n",
        "            next_state = ''.join(next_state)\n",
        "            if next_state == goal_state:\n",
        "                print(f\"Move {move}: {state} -> {next_state}\")\n",
        "                return\n",
        "        state = next_state\n",
        "\n",
        "if __name__ == \"__main__\":\n",
        "    main()\n"
      ]
    },
    {
      "cell_type": "markdown",
      "id": "fbfdbb57",
      "metadata": {
        "id": "fbfdbb57"
      },
      "source": [
        "# QUESTION 2"
      ]
    },
    {
      "cell_type": "code",
      "execution_count": 6,
      "id": "8a548d54",
      "metadata": {
        "id": "8a548d54",
        "outputId": "f2a5501d-ea33-4e58-a69b-accf3d36ff03",
        "colab": {
          "base_uri": "https://localhost:8080/"
        }
      },
      "outputs": [
        {
          "output_type": "stream",
          "name": "stdout",
          "text": [
            "Shortest path from Arad to Bucharest: Arad -> Sibiu -> Rimnicu -> Pitesti -> Bucharest\n",
            "Cost: 418\n"
          ]
        }
      ],
      "source": [
        "import heapq\n",
        "\n",
        "romania_map = {\n",
        "    'Arad': {'Zerind': 75, 'Timisoara': 118, 'Sibiu': 140},\n",
        "    'Zerind': {'Arad': 75, 'Oradea': 71},\n",
        "    'Oradea': {'Zerind': 71, 'Sibiu': 151},\n",
        "    'Timisoara': {'Arad': 118, 'Lugoj': 111},\n",
        "    'Lugoj': {'Timisoara': 111, 'Mehadia': 70},\n",
        "    'Mehadia': {'Lugoj': 70, 'Drobeta': 75},\n",
        "    'Drobeta': {'Mehadia': 75, 'Craiova': 120},\n",
        "    'Sibiu': {'Arad': 140, 'Oradea': 151, 'Fagaras': 99, 'Rimnicu': 80},\n",
        "    'Rimnicu': {'Sibiu': 80, 'Craiova': 146, 'Pitesti': 97},\n",
        "    'Craiova': {'Drobeta': 120, 'Rimnicu': 146, 'Pitesti': 138},\n",
        "    'Fagaras': {'Sibiu': 99, 'Bucharest': 211},\n",
        "    'Pitesti': {'Rimnicu': 97, 'Craiova': 138, 'Bucharest': 101},\n",
        "    'Bucharest': {'Fagaras': 211, 'Pitesti': 101, 'Giurgiu': 90, 'Urziceni': 85},\n",
        "    'Giurgiu': {'Bucharest': 90},\n",
        "    'Urziceni': {'Bucharest': 85, 'Hirsova': 98, 'Vaslui': 142},\n",
        "    'Hirsova': {'Urziceni': 98, 'Eforie': 86},\n",
        "    'Eforie': {'Hirsova': 86},\n",
        "    'Vaslui': {'Urziceni': 142, 'Iasi': 92},\n",
        "    'Iasi': {'Vaslui': 92, 'Neamt': 87},\n",
        "    'Neamt': {'Iasi': 87}\n",
        "}\n",
        "\n",
        "heuristic_values = {\n",
        "    'Arad': 366,\n",
        "    'Zerind': 374,\n",
        "    'Oradea': 380,\n",
        "    'Timisoara': 329,\n",
        "    'Lugoj': 244,\n",
        "    'Mehadia': 241,\n",
        "    'Drobeta': 242,\n",
        "    'Sibiu': 253,\n",
        "    'Rimnicu': 193,\n",
        "    'Craiova': 160,\n",
        "    'Fagaras': 176,\n",
        "    'Pitesti': 100,\n",
        "    'Bucharest': 0,\n",
        "    'Giurgiu': 77,\n",
        "    'Urziceni': 80,\n",
        "    'Hirsova': 151,\n",
        "    'Eforie': 161,\n",
        "    'Vaslui': 199,\n",
        "    'Iasi': 226,\n",
        "    'Neamt': 234\n",
        "}\n",
        "\n",
        "\n",
        "def a_star_search(graph, start, goal, heuristic):\n",
        "    open_list = [(0 + heuristic[start], 0, start, [])]\n",
        "    closed_list = set()\n",
        "\n",
        "    while open_list:\n",
        "        f_score, cost_so_far, current_state, path = min(open_list)\n",
        "        open_list.remove((f_score, cost_so_far, current_state, path))\n",
        "\n",
        "        if current_state == goal:\n",
        "            return path + [current_state], cost_so_far\n",
        "\n",
        "        closed_list.add(current_state)\n",
        "\n",
        "        for neighbor, cost in graph[current_state].items():\n",
        "            new_cost = cost_so_far + cost\n",
        "            f_score = new_cost + heuristic[neighbor]\n",
        "\n",
        "            if neighbor not in closed_list:\n",
        "                open_list.append((f_score, new_cost, neighbor, path + [current_state]))\n",
        "\n",
        "    return None, None\n",
        "\n",
        "path, cost = a_star_search(romania_map, 'Arad', 'Bucharest', heuristic_values)\n",
        "print(\"Shortest path from Arad to Bucharest:\", ' -> '.join(path))\n",
        "print(\"Cost:\", cost)\n",
        "\n",
        "\n"
      ]
    },
    {
      "cell_type": "code",
      "execution_count": null,
      "id": "a5cb2994",
      "metadata": {
        "id": "a5cb2994"
      },
      "outputs": [],
      "source": []
    },
    {
      "cell_type": "code",
      "execution_count": null,
      "id": "c892a173",
      "metadata": {
        "id": "c892a173"
      },
      "outputs": [],
      "source": []
    }
  ],
  "metadata": {
    "kernelspec": {
      "display_name": "Python 3 (ipykernel)",
      "language": "python",
      "name": "python3"
    },
    "language_info": {
      "codemirror_mode": {
        "name": "ipython",
        "version": 3
      },
      "file_extension": ".py",
      "mimetype": "text/x-python",
      "name": "python",
      "nbconvert_exporter": "python",
      "pygments_lexer": "ipython3",
      "version": "3.11.4"
    },
    "colab": {
      "provenance": []
    }
  },
  "nbformat": 4,
  "nbformat_minor": 5
}